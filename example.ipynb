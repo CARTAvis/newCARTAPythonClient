{
 "cells": [
  {
   "cell_type": "code",
   "execution_count": 1,
   "metadata": {},
   "outputs": [
    {
     "name": "stdout",
     "output_type": "stream",
     "text": [
      "Using matplotlib backend: MacOSX\n"
     ]
    }
   ],
   "source": [
    "%matplotlib"
   ]
  },
  {
   "cell_type": "code",
   "execution_count": 2,
   "metadata": {},
   "outputs": [
    {
     "name": "stdout",
     "output_type": "stream",
     "text": [
      "use python 3\n",
      "3.6.1 |Anaconda 4.4.0 (x86_64)| (default, May 11 2017, 13:04:09) \n",
      "[GCC 4.2.1 Compatible Apple LLVM 6.0 (clang-600.0.57)]\n",
      "/Users/grimmer/anaconda/bin/python\n",
      "grimmer in MeteorClient!!\n",
      "grimmer in DDPClient!!\n",
      "load import SessionManager, sessionid\n"
     ]
    }
   ],
   "source": [
    "from client import Client"
   ]
  },
  {
   "cell_type": "code",
   "execution_count": 3,
   "metadata": {
    "collapsed": true
   },
   "outputs": [],
   "source": [
    "c=Client()"
   ]
  },
  {
   "cell_type": "code",
   "execution_count": 4,
   "metadata": {},
   "outputs": [
    {
     "name": "stdout",
     "output_type": "stream",
     "text": [
      "is notebook\n",
      "is ipython, setupt matplotlib\n",
      "wait for connect resp\n",
      "zzWuFcsab3YnsqH4B\n",
      "* CONNECTED\n",
      "try getSession\n",
      "setupt subscription callback\n",
      "end connected, try login\n",
      "setup collection\n",
      "in getSession_callback\n",
      "zzWuFcsab3YnsqH4B\n",
      "setupt sessionid\n",
      "load sessionid zzWuFcsab3YnsqH4B\n",
      "get: zzWuFcsab3YnsqH4B\n",
      "load sessionid zzWuFcsab3YnsqH4B\n",
      "load sessionid zzWuFcsab3YnsqH4B\n",
      "* ADDED users DeFSuvDgYwLC9hyn8\n",
      "  - FIELD username\n",
      "grimmer users added/changed \n",
      "end added\n",
      "LOGGIN IN {'id': 'DeFSuvDgYwLC9hyn8', 'token': 'Dm85n4V8euXoQWBp7pIys9nOBwJDtI00MNRM4DvaD2_', 'tokenExpires': datetime.datetime(2018, 1, 11, 6, 46, 3, 592000, tzinfo=datetime.timezone.utc)}\n",
      "sub resp ok\n",
      "* SUBSCRIBED commandResponse\n",
      "sub image ok2\n",
      "sendRegiserView\n",
      "* SUBSCRIBED imagecontroller\n",
      "in registerview_callback\n",
      "\n",
      "* ADDED responses rPBLP3gYPmZyPjahr\n",
      "  - FIELD sessionID\n",
      "  - FIELD cmd\n",
      "  - FIELD data\n",
      "grimmer responses added/changed, self_sessionID: zzWuFcsab3YnsqH4B\n",
      "response:REGISTER_IMAGEVIEWER\n",
      "parseReigsterViewResp, try to send setupt size\n",
      "end added\n",
      "in setSizeCallback_callback\n",
      "None\n",
      "in self.remove_callback\n",
      "1\n",
      "* REMOVED responses rPBLP3gYPmZyPjahr\n",
      "* ADDED responses qpyT7eMnuRFTMA5cP\n",
      "  - FIELD sessionID\n",
      "  - FIELD cmd\n",
      "  - FIELD buffer\n",
      "grimmer responses added/changed, self_sessionID: zzWuFcsab3YnsqH4B\n",
      "response:SELECT_FILE_TO_OPEN\n",
      "get image !!!!\n",
      "image data size: 10012\n",
      "currentTime: 2017-10-13 14:46:03.631740\n",
      "end added\n",
      "* REMOVED responses qpyT7eMnuRFTMA5cP\n",
      "in self.remove_callback\n",
      "1\n",
      "* ADDED responses GPzWi84WWdNuujT6Z\n",
      "  - FIELD sessionID\n",
      "  - FIELD cmd\n",
      "  - FIELD buffer\n",
      "grimmer responses added/changed, self_sessionID: zzWuFcsab3YnsqH4B\n",
      "response:SELECT_FILE_TO_OPEN\n",
      "get image !!!!\n",
      "image data size: 10012\n",
      "get resp:connect_responsecurrentTime:\n",
      " 2017-10-13 14:46:03.648049\n",
      "get dummy 2 images. start to request testing image, aj.fits\n",
      "end added\n",
      "in self.remove_callback\n",
      "1\n",
      "* REMOVED responses GPzWi84WWdNuujT6Z\n"
     ]
    }
   ],
   "source": [
    "c.start_connection()"
   ]
  },
  {
   "cell_type": "code",
   "execution_count": null,
   "metadata": {
    "collapsed": true
   },
   "outputs": [],
   "source": [
    "c.requset_file_list()"
   ]
  },
  {
   "cell_type": "code",
   "execution_count": 5,
   "metadata": {},
   "outputs": [
    {
     "name": "stdout",
     "output_type": "stream",
     "text": [
      "query: id:/CartaObjects/c504,data:/Users/grimmer/CARTA/Images/aj.fits\n",
      "in selectFile_callback\n",
      "\n",
      "* ADDED responses xtr4t9jwzzRvkAXjy\n",
      "  - FIELD sessionID\n",
      "  - FIELD cmd\n",
      "  - FIELD data\n",
      "grimmer responses added/changed, self_sessionID: zzWuFcsab3YnsqH4B\n",
      "response:SELECT_FILE_TO_OPEN\n",
      "dummy response of select file request\n",
      "end added\n",
      "in self.remove_callback\n",
      "1\n",
      "* REMOVED responses xtr4t9jwzzRvkAXjy\n",
      "* ADDED responses xizcjeuLkkvaLwGk3\n",
      "  - FIELD sessionID\n",
      "  - FIELD cmd\n",
      "  - FIELD buffer\n",
      "grimmer responses added/changed, self_sessionID: zzWuFcsab3YnsqH4B\n",
      "response:SELECT_FILE_TO_OPEN\n",
      "get image !!!!\n",
      "image data size: 48772\n",
      "currentTime: 2017-10-13 14:46:03.937073\n",
      "try to to insert images\n",
      "end to insert\n",
      "try to save image\n",
      "end added\n",
      "* ADDED responses CoSnfwxCAkwbALqFf\n",
      "  - FIELD sessionID\n",
      "  - FIELD cmd\n",
      "  - FIELD buffer\n",
      "grimmer responses added/changed, self_sessionID: zzWuFcsab3YnsqH4B\n",
      "response:SELECT_FILE_TO_OPEN\n",
      "get image !!!!\n",
      "image data size: 48772\n",
      "currentTime: 2017-10-13 14:46:04.080261\n",
      "try to to insert images\n",
      "end to insert\n",
      "try to save image\n",
      "end added\n",
      "insert callback\n",
      "insert callback ok\n",
      "* ADDED imagecontroller nRfe8NbXXrr9vDaeZ\n",
      "  - FIELD imageURL\n",
      "  - FIELD size\n",
      "  - FIELD sessionID\n",
      "grimmer imagecontroller added/changed\n",
      "total doc: 1\n",
      "loop image collection, id is nRfe8NbXXrr9vDaeZ\n",
      "image size: 48795\n",
      "not remove it\n",
      "end added\n",
      "in self.remove_callback\n",
      "1\n",
      "* REMOVED responses xizcjeuLkkvaLwGk3\n",
      "insert callback\n",
      "insert callback ok\n",
      "* ADDED imagecontroller e8Jx2xNY5rJJrXDEx\n",
      "  - FIELD imageURL\n",
      "  - FIELD size\n",
      "  - FIELD sessionID\n",
      "grimmer imagecontroller added/changed\n",
      "total doc: 2\n",
      "loop image collection, id is nRfe8NbXXrr9vDaeZ\n",
      "image size: 48795\n",
      "remove it\n",
      "loop image collection, id is e8Jx2xNY5rJJrXDEx\n",
      "image size: 48795\n",
      "not remove it\n",
      "end added\n",
      "in self.remove_callback\n",
      "1\n",
      "* REMOVED responses CoSnfwxCAkwbALqFf\n",
      "* REMOVED imagecontroller nRfe8NbXXrr9vDaeZ\n",
      "in remove_image_callback\n",
      "in remove_image_callback ok\n"
     ]
    }
   ],
   "source": [
    "c.request_file_show(\"aJ.fits\")"
   ]
  },
  {
   "cell_type": "code",
   "execution_count": null,
   "metadata": {
    "collapsed": true
   },
   "outputs": [],
   "source": []
  }
 ],
 "metadata": {
  "kernelspec": {
   "display_name": "Python 3",
   "language": "python",
   "name": "python3"
  },
  "language_info": {
   "codemirror_mode": {
    "name": "ipython",
    "version": 3
   },
   "file_extension": ".py",
   "mimetype": "text/x-python",
   "name": "python",
   "nbconvert_exporter": "python",
   "pygments_lexer": "ipython3",
   "version": "3.6.1"
  },
  "widgets": {
   "application/vnd.jupyter.widget-state+json": {
    "state": {},
    "version_major": 1,
    "version_minor": 0
   }
  }
 },
 "nbformat": 4,
 "nbformat_minor": 2
}
