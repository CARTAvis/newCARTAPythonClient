{
 "cells": [
  {
   "cell_type": "code",
   "execution_count": 1,
   "metadata": {},
   "outputs": [
    {
     "name": "stdout",
     "output_type": "stream",
     "text": [
      "test0\n",
      "Using matplotlib backend: MacOSX\n"
     ]
    }
   ],
   "source": [
    "print(\"test0\")\n",
    "%matplotlib"
   ]
  },
  {
   "cell_type": "code",
   "execution_count": 2,
   "metadata": {},
   "outputs": [
    {
     "name": "stdout",
     "output_type": "stream",
     "text": [
      "3.6.1 |Anaconda 4.4.0 (x86_64)| (default, May 11 2017, 13:04:09) \n",
      "[GCC 4.2.1 Compatible Apple LLVM 6.0 (clang-600.0.57)]\n",
      "/Users/grimmer/anaconda/bin/python\n",
      "grimmer in MeteorClient!!\n",
      "grimmer in DDPClient!!\n",
      "load import SessionManager, sessionid\n",
      "is notebook\n",
      "is ipython, setupt matplotlib\n",
      "try getSession\n",
      "zqfR9JWDenyPzBZoC\n",
      "* CONNECTED\n",
      "end connected, try login\n",
      "setup collection\n"
     ]
    }
   ],
   "source": [
    "%run -i example.py"
   ]
  },
  {
   "cell_type": "code",
   "execution_count": 3,
   "metadata": {},
   "outputs": [
    {
     "name": "stdout",
     "output_type": "stream",
     "text": [
      "test1111\n"
     ]
    }
   ],
   "source": [
    "print(\"test1\")"
   ]
  },
  {
   "cell_type": "code",
   "execution_count": 4,
   "metadata": {},
   "outputs": [
    {
     "name": "stdout",
     "output_type": "stream",
     "text": [
      "test11112222\n",
      "* ADDED users DeFSuvDgYwLC9hyn8\n",
      "  - FIELD username\n",
      "grimmer users added/changed \n",
      "end added\n",
      "in getSession_callback\n",
      "zqfR9JWDenyPzBZoC\n",
      "setupt sessionid\n",
      "load sessionid zqfR9JWDenyPzBZoC\n",
      "get: zqfR9JWDenyPzBZoC\n",
      "load sessionid zqfR9JWDenyPzBZoC\n",
      "load sessionid zqfR9JWDenyPzBZoC\n",
      "LOGGIN IN {'id': 'DeFSuvDgYwLC9hyn8', 'token': 'i6ooMX5cuD0mm3bewtYgdw1nb8QchklK8QLHrs7aOt8', 'tokenExpires': datetime.datetime(2018, 1, 4, 11, 48, 47, 1000, tzinfo=datetime.timezone.utc)}\n",
      "sub resp ok\n",
      "* SUBSCRIBED commandResponse\n",
      "sub image ok2\n",
      "sendRegiserView\n",
      "* SUBSCRIBED imagecontroller\n",
      "in registerview_callback\n",
      "\n",
      "* ADDED responses ART39huSMRemtG6vy\n",
      "  - FIELD sessionID\n",
      "  - FIELD cmd\n",
      "  - FIELD data\n",
      "grimmer responses added/changed, self_sessionID: zqfR9JWDenyPzBZoC\n",
      "response:REGISTER_IMAGEVIEWER\n",
      "parseReigsterViewResp, try to send setupt size\n",
      "end added\n",
      "in setSizeCallback_callback\n",
      "None\n",
      "in remove_callback\n",
      "1\n",
      "* REMOVED responses ART39huSMRemtG6vy\n",
      "* ADDED responses FbnhytANDSC7kNCGY\n",
      "  - FIELD sessionID\n",
      "  - FIELD cmd\n",
      "  - FIELD buffer\n",
      "grimmer responses added/changed, self_sessionID: zqfR9JWDenyPzBZoC\n",
      "response:SELECT_FILE_TO_OPEN\n",
      "get image !!!!\n",
      "image data size: 10012\n",
      "currentTime: 2017-10-06 19:48:47.172578\n",
      "end added\n",
      "* ADDED responses bAPKnQ2dBxhcYXxZW\n",
      "  - FIELD sessionID\n",
      "  - FIELD cmd\n",
      "  - FIELD buffer\n",
      "grimmer responses added/changed, self_sessionID: zqfR9JWDenyPzBZoC\n",
      "response:SELECT_FILE_TO_OPEN\n",
      "get image !!!!\n",
      "image data size: 10012\n",
      "currentTime: 2017-10-06 19:48:47.185575\n",
      "start to request testing image, aj.fits\n",
      "query: id:/CartaObjects/c680,data:/Users/grimmer/CARTA/Images/aj.fits\n",
      "end added\n",
      "in remove_callback\n",
      "1\n",
      "* REMOVED responses FbnhytANDSC7kNCGY\n",
      "in selectFile_callback\n",
      "\n",
      "in remove_callback\n",
      "1\n",
      "* REMOVED responses bAPKnQ2dBxhcYXxZW\n",
      "* ADDED responses EdScW3am6pdiKLa8v\n",
      "  - FIELD sessionID\n",
      "  - FIELD cmd\n",
      "  - FIELD data\n",
      "grimmer responses added/changed, self_sessionID: zqfR9JWDenyPzBZoC\n",
      "response:SELECT_FILE_TO_OPEN\n",
      "dummy response of select file request\n",
      "end added\n",
      "in remove_callback\n",
      "1\n",
      "* REMOVED responses EdScW3am6pdiKLa8v\n",
      "* ADDED responses dgXNorC7y2niwD38M\n",
      "  - FIELD sessionID\n",
      "  - FIELD cmd\n",
      "  - FIELD buffer\n",
      "grimmer responses added/changed, self_sessionID: zqfR9JWDenyPzBZoC\n",
      "response:SELECT_FILE_TO_OPEN\n",
      "get image !!!!\n",
      "image data size: 48772\n",
      "currentTime: 2017-10-06 19:48:57.465116\n",
      "try to to insert images\n",
      "end to insert\n",
      "try to save image\n",
      "end added\n",
      "* ADDED responses EJC4YsANsGDShk6Jn\n",
      "  - FIELD sessionID\n",
      "  - FIELD cmd\n",
      "  - FIELD buffer\n",
      "grimmer responses added/changed, self_sessionID: zqfR9JWDenyPzBZoC\n",
      "response:SELECT_FILE_TO_OPEN\n",
      "get image !!!!\n",
      "image data size: 48772\n",
      "currentTime: 2017-10-06 19:48:57.625336\n",
      "try to to insert images\n",
      "end to insert\n",
      "try to save image\n",
      "end added\n",
      "insert callback\n",
      "insert callback ok\n",
      "* ADDED imagecontroller 5L3JhGi4mNMt3SrNW\n",
      "  - FIELD imageURL\n",
      "  - FIELD size\n",
      "  - FIELD sessionID\n",
      "grimmer imagecontroller added/changed\n",
      "total doc: 1\n",
      "loop image collection, id is 5L3JhGi4mNMt3SrNW\n",
      "image size: 48795\n",
      "not remove it\n",
      "end added\n",
      "in remove_callback\n",
      "1\n",
      "* REMOVED responses dgXNorC7y2niwD38M\n",
      "insert callback\n",
      "insert callback ok\n",
      "* ADDED imagecontroller 79WYQmY3vcb5x3yC8\n",
      "  - FIELD imageURL\n",
      "  - FIELD size\n",
      "  - FIELD sessionID\n",
      "grimmer imagecontroller added/changed\n",
      "total doc: 2\n",
      "loop image collection, id is 5L3JhGi4mNMt3SrNW\n",
      "image size: 48795\n",
      "remove it\n",
      "loop image collection, id is 79WYQmY3vcb5x3yC8\n",
      "image size: 48795\n",
      "not remove it\n",
      "end added\n",
      "in remove_callback\n",
      "1\n",
      "* REMOVED responses EJC4YsANsGDShk6Jn\n",
      "in remove_image_callback\n",
      "in remove_image_callback ok\n",
      "* REMOVED imagecontroller 5L3JhGi4mNMt3SrNW\n"
     ]
    }
   ],
   "source": [
    "print(\"test2\")"
   ]
  },
  {
   "cell_type": "code",
   "execution_count": null,
   "metadata": {
    "collapsed": true
   },
   "outputs": [],
   "source": []
  }
 ],
 "metadata": {
  "kernelspec": {
   "display_name": "Python 3",
   "language": "python",
   "name": "python3"
  },
  "language_info": {
   "codemirror_mode": {
    "name": "ipython",
    "version": 3
   },
   "file_extension": ".py",
   "mimetype": "text/x-python",
   "name": "python",
   "nbconvert_exporter": "python",
   "pygments_lexer": "ipython3",
   "version": "3.6.1"
  }
 },
 "nbformat": 4,
 "nbformat_minor": 2
}
